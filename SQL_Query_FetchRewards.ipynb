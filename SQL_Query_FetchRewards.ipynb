{
  "nbformat": 4,
  "nbformat_minor": 0,
  "metadata": {
    "colab": {
      "provenance": []
    },
    "kernelspec": {
      "name": "python3",
      "display_name": "Python 3"
    },
    "language_info": {
      "name": "python"
    }
  },
  "cells": [
    {
      "cell_type": "code",
      "execution_count": 88,
      "metadata": {
        "id": "VksuATNvCpZA"
      },
      "outputs": [],
      "source": [
        "import sqlalchemy"
      ]
    },
    {
      "cell_type": "code",
      "source": [
        "pip install pyodbc"
      ],
      "metadata": {
        "colab": {
          "base_uri": "https://localhost:8080/"
        },
        "id": "_7a1oPB5Crc6",
        "outputId": "810ae1d7-675b-4985-a1f2-f8000654298b"
      },
      "execution_count": 89,
      "outputs": [
        {
          "output_type": "stream",
          "name": "stdout",
          "text": [
            "Looking in indexes: https://pypi.org/simple, https://us-python.pkg.dev/colab-wheels/public/simple/\n",
            "Requirement already satisfied: pyodbc in /usr/local/lib/python3.8/dist-packages (4.0.35)\n"
          ]
        }
      ]
    },
    {
      "cell_type": "code",
      "source": [
        "import pyodbc, os"
      ],
      "metadata": {
        "id": "yaqFpVvxCuc1"
      },
      "execution_count": 90,
      "outputs": []
    },
    {
      "cell_type": "code",
      "source": [
        "os.chdir(r\"/content/drive/MyDrive/assesement\")"
      ],
      "metadata": {
        "id": "r02YnY7hCy-T"
      },
      "execution_count": 91,
      "outputs": []
    },
    {
      "cell_type": "code",
      "source": [
        "os.getcwd()"
      ],
      "metadata": {
        "colab": {
          "base_uri": "https://localhost:8080/",
          "height": 35
        },
        "id": "Ahdpm_cKEsWM",
        "outputId": "e4c25129-15d9-42f6-e2c1-e40e336ccb28"
      },
      "execution_count": 92,
      "outputs": [
        {
          "output_type": "execute_result",
          "data": {
            "text/plain": [
              "'/content/drive/MyDrive/assesement'"
            ],
            "application/vnd.google.colaboratory.intrinsic+json": {
              "type": "string"
            }
          },
          "metadata": {},
          "execution_count": 92
        }
      ]
    },
    {
      "cell_type": "code",
      "source": [
        "os.listdir()"
      ],
      "metadata": {
        "colab": {
          "base_uri": "https://localhost:8080/"
        },
        "id": "8Xcd_hS2EuGz",
        "outputId": "5eda10fa-a725-41c9-bebf-bcee50a58605"
      },
      "execution_count": 93,
      "outputs": [
        {
          "output_type": "execute_result",
          "data": {
            "text/plain": [
              "['users.csv', 'receipts.csv', 'item.csv', 'brands.csv']"
            ]
          },
          "metadata": {},
          "execution_count": 93
        }
      ]
    },
    {
      "cell_type": "code",
      "source": [
        "from glob import glob\n",
        "import os\n",
        "import pandas as pd\n",
        "import sqlite3"
      ],
      "metadata": {
        "id": "9NN1Z1GhEv5D"
      },
      "execution_count": 94,
      "outputs": []
    },
    {
      "cell_type": "code",
      "source": [
        "source_files = '/content/drive/MyDrive/assesement/*.csv'  # All CSVs in current folder\n",
        "destination_file = '/content/drive/MyDrive/assesement/assesement.db'  # SQLite DB file\n",
        "\n",
        "# Create SQLite connection and file at the same time\n",
        "with sqlite3.connect(destination_file) as con:\n",
        "  # Traverse all CSV files\n",
        "  for csv_file in glob(source_files):\n",
        "    # Use pandas for reading\n",
        "    df = pd.read_csv(csv_file)\n",
        "    # Get filename\n",
        "    file_name, file_ext = os.path.splitext(os.path.basename(csv_file))\n",
        "    print(f'Processing {file_name}...')\n",
        "    # Create or replace the table\n",
        "    df.to_sql(file_name, con, if_exists='replace', index=False)\n",
        "\n",
        "print('Done')"
      ],
      "metadata": {
        "colab": {
          "base_uri": "https://localhost:8080/"
        },
        "id": "g5NLfMAXHiRY",
        "outputId": "7f9de956-9481-40e9-8299-feabab1b4b9a"
      },
      "execution_count": 95,
      "outputs": [
        {
          "output_type": "stream",
          "name": "stdout",
          "text": [
            "Processing users...\n",
            "Processing receipts...\n",
            "Processing item...\n",
            "Processing brands...\n",
            "Done\n"
          ]
        }
      ]
    },
    {
      "cell_type": "code",
      "source": [
        "con = sqlite3.connect(\"/content/drive/MyDrive/assesement/crunchbase.db\")\n",
        "c = con.cursor()"
      ],
      "metadata": {
        "id": "Wam4BMqfHq6Z"
      },
      "execution_count": 77,
      "outputs": []
    },
    {
      "cell_type": "markdown",
      "source": [
        "## for the below 2 questions which are:\n",
        "## 1. When considering average spend from receipts with 'rewardsReceiptStatus’ of ‘Accepted’ or ‘Rejected’, which is greater?\n",
        "## 2. When considering total number of items purchased from receipts with 'rewardsReceiptStatus’ of ‘Accepted’ or ‘Rejected’, which is greater?\n",
        "\n",
        "## There is no unique value as Accepted in 'rewardsReceiptStatus’ in Receipts the available values are:\n",
        "\n",
        "['FINISHED' 'REJECTED' 'FLAGGED' 'SUBMITTED' 'PENDING']\n",
        "\n",
        "## I am assuming the question intends to mean 'FINISHED' instead of 'ACCEPTED'"
      ],
      "metadata": {
        "id": "wdPh86MsPB2L"
      }
    },
    {
      "cell_type": "code",
      "source": [
        "c.execute('''\n",
        "select AVG(totalspent)\n",
        "from receipts\n",
        "where rewardsReceiptStatus = \"REJECTED\"\n",
        "\n",
        " ''')\n",
        "print('AVG(totalspent) where rewardsReceiptStatus = REJECTED is ')\n",
        "print( c.fetchall())\n",
        "\n",
        "\n",
        "\n",
        "c.execute('''\n",
        "select AVG(totalspent)\n",
        "from receipts\n",
        "where rewardsReceiptStatus = \"FINISHED\"\n",
        "\n",
        " ''')\n",
        "\n",
        "print('AVG(totalspent) where rewardsReceiptStatus = FINISHED is ')\n",
        "print(c.fetchall())\n"
      ],
      "metadata": {
        "colab": {
          "base_uri": "https://localhost:8080/"
        },
        "id": "uFipSZmAKXz_",
        "outputId": "b1645104-7a8a-4aa4-ea68-a84f92b8e7f0"
      },
      "execution_count": 79,
      "outputs": [
        {
          "output_type": "stream",
          "name": "stdout",
          "text": [
            "AVG(totalspent) where rewardsReceiptStatus = REJECTED is \n",
            "[(23.326056338028184,)]\n",
            "AVG(totalspent) where rewardsReceiptStatus = FINISHED is \n",
            "[(80.85430501930502,)]\n"
          ]
        }
      ]
    },
    {
      "cell_type": "markdown",
      "source": [
        "As we can see the AVG of FINISHED is greater"
      ],
      "metadata": {
        "id": "hbilbHN6Qfbh"
      }
    },
    {
      "cell_type": "code",
      "source": [
        "c.execute('''\n",
        "select count(purchasedItemCount)\n",
        "from receipts\n",
        "where rewardsReceiptStatus = \"REJECTED\"\n",
        "\n",
        " ''')\n",
        "\n",
        "print('count(purchasedItemCount) where rewardsReceiptStatus = REJECTED is ')\n",
        "print(c.fetchall())\n",
        "\n",
        "\n",
        "\n",
        "c.execute('''\n",
        "select count(purchasedItemCount)\n",
        "from receipts\n",
        "where rewardsReceiptStatus = \"FINISHED\"\n",
        "\n",
        " ''')\n",
        "\n",
        "\n",
        "print('count(purchasedItemCount) where rewardsReceiptStatus = FINISHED is ')\n",
        "print(c.fetchall())\n",
        "\n"
      ],
      "metadata": {
        "colab": {
          "base_uri": "https://localhost:8080/"
        },
        "id": "GcxOFjkYNDRK",
        "outputId": "e7db452e-afba-4349-e60d-f09979b46eaa"
      },
      "execution_count": 80,
      "outputs": [
        {
          "output_type": "stream",
          "name": "stdout",
          "text": [
            "count(purchasedItemCount) where rewardsReceiptStatus = REJECTED is \n",
            "[(71,)]\n",
            "count(purchasedItemCount) where rewardsReceiptStatus = FINISHED is \n",
            "[(518,)]\n"
          ]
        }
      ]
    },
    {
      "cell_type": "markdown",
      "source": [
        "As we can see the count of FINISHED is greater"
      ],
      "metadata": {
        "id": "GZGZIYkyQ7IG"
      }
    },
    {
      "cell_type": "code",
      "source": [],
      "metadata": {
        "id": "1bx0bJ3yl3ZM"
      },
      "execution_count": null,
      "outputs": []
    }
  ]
}